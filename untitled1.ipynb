{
  "nbformat": 4,
  "nbformat_minor": 0,
  "metadata": {
    "colab": {
      "provenance": [],
      "authorship_tag": "ABX9TyOnrw4I6Rj7ftYXBd4yE818",
      "include_colab_link": true
    },
    "kernelspec": {
      "name": "python3",
      "display_name": "Python 3"
    },
    "language_info": {
      "name": "python"
    }
  },
  "cells": [
    {
      "cell_type": "markdown",
      "metadata": {
        "id": "view-in-github",
        "colab_type": "text"
      },
      "source": [
        "<a href=\"https://colab.research.google.com/github/Tawanss/Peyton-data-viz/blob/main/untitled1.ipynb\" target=\"_parent\"><img src=\"https://colab.research.google.com/assets/colab-badge.svg\" alt=\"Open In Colab\"/></a>"
      ]
    },
    {
      "cell_type": "markdown",
      "source": [
        "quiz2 กำหนด list เป็นประโยคคำว่า\n",
        "\"Department of Statistics, Faculty of Science, Khon\n",
        "Kaen University, Thailand\"\n",
        "\n",
        "1. ตัดมาเฉพาะคำว่า Faculty Science\n",
        "2. ตัดแบบเว้นทีละ 3 ตัวอักษร\n",
        "3. ตัดคำว่า Khon Kaen University ออกมาแล้วเขียนกลับหลัง"
      ],
      "metadata": {
        "id": "yHQ8dS8N-ucX"
      }
    },
    {
      "cell_type": "code",
      "source": [
        "list_2 = \"Department of Statistics Faculty of Science Khon Kaen University Thailand\"\n",
        "list_2 [25:44]\n",
        "\n"
      ],
      "metadata": {
        "colab": {
          "base_uri": "https://localhost:8080/",
          "height": 35
        },
        "id": "vwN3_GuC-1uu",
        "outputId": "6fc686e7-3065-4b83-e563-cafa2746645e"
      },
      "execution_count": null,
      "outputs": [
        {
          "output_type": "execute_result",
          "data": {
            "text/plain": [
              "'Faculty of Science '"
            ],
            "application/vnd.google.colaboratory.intrinsic+json": {
              "type": "string"
            }
          },
          "metadata": {},
          "execution_count": 2
        }
      ]
    },
    {
      "cell_type": "code",
      "source": [
        "list_2  [0:77:3]"
      ],
      "metadata": {
        "colab": {
          "base_uri": "https://localhost:8080/",
          "height": 35
        },
        "id": "FvxoQD7m_Q7O",
        "outputId": "cc01b13c-2a86-4463-bf32-33b91dba78c7"
      },
      "execution_count": null,
      "outputs": [
        {
          "output_type": "execute_result",
          "data": {
            "text/plain": [
              "'Damtftii ctoSeeh eUvsyhld'"
            ],
            "application/vnd.google.colaboratory.intrinsic+json": {
              "type": "string"
            }
          },
          "metadata": {},
          "execution_count": 3
        }
      ]
    },
    {
      "cell_type": "code",
      "source": [
        "list_2 [-11:43:-1]"
      ],
      "metadata": {
        "colab": {
          "base_uri": "https://localhost:8080/",
          "height": 35
        },
        "id": "t9xPJ2x1_YC2",
        "outputId": "28a4e9c3-f47c-4d51-8e96-d0352ce84e4a"
      },
      "execution_count": null,
      "outputs": [
        {
          "output_type": "execute_result",
          "data": {
            "text/plain": [
              "'tisrevinU neaK nohK'"
            ],
            "application/vnd.google.colaboratory.intrinsic+json": {
              "type": "string"
            }
          },
          "metadata": {},
          "execution_count": 4
        }
      ]
    }
  ]
}