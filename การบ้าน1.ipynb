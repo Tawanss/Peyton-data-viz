{
  "nbformat": 4,
  "nbformat_minor": 0,
  "metadata": {
    "colab": {
      "provenance": [],
      "authorship_tag": "ABX9TyN+qrGU60VcxiqG/Sl+P17e",
      "include_colab_link": true
    },
    "kernelspec": {
      "name": "python3",
      "display_name": "Python 3"
    },
    "language_info": {
      "name": "python"
    }
  },
  "cells": [
    {
      "cell_type": "markdown",
      "metadata": {
        "id": "view-in-github",
        "colab_type": "text"
      },
      "source": [
        "<a href=\"https://colab.research.google.com/github/Tawanss/Peyton-data-viz/blob/main/%E0%B8%81%E0%B8%B2%E0%B8%A3%E0%B8%9A%E0%B9%89%E0%B8%B2%E0%B8%991.ipynb\" target=\"_parent\"><img src=\"https://colab.research.google.com/assets/colab-badge.svg\" alt=\"Open In Colab\"/></a>"
      ]
    },
    {
      "cell_type": "markdown",
      "source": [
        "HW1\n",
        "\n",
        "คำนวณว่า ช่วงเวลาต่อไปนี้ ห่างกันกี่ ชั่วโมง กี่นาที กี่วินาที (print ออกมาให้สวยงาม)\n",
        "\n",
        "- 12:30:15 - 13:41:07\n",
        "- 09:11:50 - 21:30:15\n",
        "- 19:25:30 - 03:10:15"
      ],
      "metadata": {
        "id": "VmlyZcIz9gCD"
      }
    },
    {
      "cell_type": "code",
      "source": [
        "#ข้อที่1\n",
        "t1= '12:30:15'\n",
        "t2='13:41:07'\n",
        "\n",
        "x1=t1.split(':')\n",
        "x2=t2.split(':')\n",
        "\n",
        "#เเปลงt1 เป็นวินาที\n",
        "hour1 = int(x1[0])*3600\n",
        "minutes1 = int(x1[1])*60\n",
        "second1 = int(x1[2])\n",
        "#เเปลงt2 เป็นวินาที\n",
        "hour2 = int(x2[0])*3600\n",
        "minutes2 = int(x2[1])*60\n",
        "second2 = int(x2[2])\n",
        "#สร้างเป็นวินาที\n",
        "time1 = hour1 + minutes1 + second1\n",
        "time2 = hour2 + minutes2 + second2\n",
        "#หาคำตอบ\n",
        "ผลต่าง = time2-time1\n",
        "hour = int(ผลต่าง/3600)\n",
        "minutes = int((ผลต่าง%3600)/60)\n",
        "second = int(ผลต่าง%60)\n",
        "print(f'ช่วงเวลาที่ห่างกันคือ {hour}ชั่วโมง:{minutes}นาที:{second}วินาที')"
      ],
      "metadata": {
        "colab": {
          "base_uri": "https://localhost:8080/"
        },
        "id": "AGDfFYBD-3-1",
        "outputId": "7fa6490c-47e0-46c9-842e-873fe4999441"
      },
      "execution_count": 51,
      "outputs": [
        {
          "output_type": "stream",
          "name": "stdout",
          "text": [
            "ช่วงเวลาที่ห่างกันคือ 1ชั่วโมง:10นาที:52วินาที\n"
          ]
        }
      ]
    },
    {
      "cell_type": "code",
      "source": [
        "#ข้อที่2\n",
        "t1= '09:11:50'\n",
        "t2='21:30:15'\n",
        "\n",
        "x1=t1.split(':')\n",
        "x2=t2.split(':')\n",
        "\n",
        "#เเปลงt1 เป็นวินาที\n",
        "hour1 = int(x1[0])*3600\n",
        "minutes1 = int(x1[1])*60\n",
        "second1 = int(x1[2])\n",
        "#เเปลงt2 เป็นวินาที\n",
        "hour2 = int(x2[0])*3600\n",
        "minutes2 = int(x2[1])*60\n",
        "second2 = int(x2[2])\n",
        "#สร้างเป็นวินาที\n",
        "time1 = hour1 + minutes1 + second1\n",
        "time2 = hour2 + minutes2 + second2\n",
        "#หาคำตอบ\n",
        "ผลต่าง = time2-time1\n",
        "hour = int(ผลต่าง/3600)\n",
        "minutes = int((ผลต่าง%3600)/60)\n",
        "second = int(ผลต่าง%60)\n",
        "print(f'ช่วงเวลาที่ห่างกันคือ {hour}ชั่วโมง:{minutes}นาที:{second}วินาที')"
      ],
      "metadata": {
        "colab": {
          "base_uri": "https://localhost:8080/"
        },
        "outputId": "abf2efc7-d2a0-4373-deca-096965bdcad1",
        "id": "hXnOOsZzXmBj"
      },
      "execution_count": 52,
      "outputs": [
        {
          "output_type": "stream",
          "name": "stdout",
          "text": [
            "ช่วงเวลาที่ห่างกันคือ 12ชั่วโมง:18นาที:25วินาที\n"
          ]
        }
      ]
    },
    {
      "cell_type": "code",
      "source": [
        "#ข้อที่3\n",
        "t1= '19:25:30'\n",
        "t2='03:10:15'\n",
        "#เปลี่ยนหน่วยt2 เพื่อให้คิดง่ายขึ้น ด้วยการนับจาก19 ไป จนถึง ตี3 (เลข7-เลข3เเบบตามเข็ม)\n",
        "t2='27:10:15'\n",
        "\n",
        "x1=t1.split(':')\n",
        "x2=t2.split(':')\n",
        "print(time1,time2)\n",
        "#เเปลงt1 เป็นวินาที\n",
        "hour1 = int(x1[0])*3600\n",
        "minutes1 = int(x1[1])*60\n",
        "second1 = int(x1[2])\n",
        "#เเปลงt2 เป็นวินาที\n",
        "hour2 = int(x2[0])*3600\n",
        "minutes2 = int(x2[1])*60\n",
        "second2 = int(x2[2])\n",
        "#สร้างเป็นวินาที\n",
        "time1 = hour1 + minutes1 + second1\n",
        "time2 = hour2 + minutes2 + second2\n",
        "#หาคำตอบ\n",
        "ผลต่าง = time2-time1\n",
        "hour = int(ผลต่าง/3600)\n",
        "minutes = int((ผลต่าง%3600)/60)\n",
        "second = int(ผลต่าง%60)\n",
        "print(f'ช่วงเวลาที่ห่างกันคือ {hour}ชั่วโมง:{minutes}นาที:{second}วินาที')"
      ],
      "metadata": {
        "colab": {
          "base_uri": "https://localhost:8080/"
        },
        "outputId": "64dcb7f7-73bf-4c7f-81fe-5159bba85688",
        "id": "VBofLpW5X6ga"
      },
      "execution_count": 59,
      "outputs": [
        {
          "output_type": "stream",
          "name": "stdout",
          "text": [
            "69930 11415\n",
            "ช่วงเวลาที่ห่างกันคือ 7ชั่วโมง:44นาที:45วินาที\n"
          ]
        }
      ]
    }
  ]
}